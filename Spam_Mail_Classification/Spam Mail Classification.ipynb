{
 "cells": [
  {
   "cell_type": "markdown",
   "id": "26218d52-50dd-487c-ac6b-30fe1ed2fa77",
   "metadata": {},
   "source": [
    "## Importing dependencies"
   ]
  },
  {
   "cell_type": "code",
   "execution_count": 1,
   "id": "33600037-2a7f-473b-b95f-d9c0b2a211df",
   "metadata": {},
   "outputs": [],
   "source": [
    "import pandas as pd # for data interpretation\n",
    "import numpy as np # for math operations\n",
    "import matplotlib.pyplot as plt # for data representation if needed\n",
    "import re # regular expression for searching texts in paragraphs\n",
    "from nltk.corpus import stopwords # stopwords is a collection of useless words that our data might not really need \n",
    "from nltk.stem.porter import PorterStemmer # stem the word and only keeps the root word or the important part of the word\n",
    "from sklearn.feature_extraction.text import TfidfVectorizer # vectorizes the texts on the basis of frequency of the time they are used \n",
    "from sklearn.linear_model import LogisticRegression\n",
    "from sklearn.model_selection import train_test_split\n",
    "from sklearn.metrics import accuracy_score"
   ]
  },
  {
   "cell_type": "code",
   "execution_count": 2,
   "id": "f611fbad-1478-4973-8b9b-739d1b3e4ad5",
   "metadata": {},
   "outputs": [
    {
     "name": "stdout",
     "output_type": "stream",
     "text": [
      "['i', 'me', 'my', 'myself', 'we', 'our', 'ours', 'ourselves', 'you', \"you're\", \"you've\", \"you'll\", \"you'd\", 'your', 'yours', 'yourself', 'yourselves', 'he', 'him', 'his', 'himself', 'she', \"she's\", 'her', 'hers', 'herself', 'it', \"it's\", 'its', 'itself', 'they', 'them', 'their', 'theirs', 'themselves', 'what', 'which', 'who', 'whom', 'this', 'that', \"that'll\", 'these', 'those', 'am', 'is', 'are', 'was', 'were', 'be', 'been', 'being', 'have', 'has', 'had', 'having', 'do', 'does', 'did', 'doing', 'a', 'an', 'the', 'and', 'but', 'if', 'or', 'because', 'as', 'until', 'while', 'of', 'at', 'by', 'for', 'with', 'about', 'against', 'between', 'into', 'through', 'during', 'before', 'after', 'above', 'below', 'to', 'from', 'up', 'down', 'in', 'out', 'on', 'off', 'over', 'under', 'again', 'further', 'then', 'once', 'here', 'there', 'when', 'where', 'why', 'how', 'all', 'any', 'both', 'each', 'few', 'more', 'most', 'other', 'some', 'such', 'no', 'nor', 'not', 'only', 'own', 'same', 'so', 'than', 'too', 'very', 's', 't', 'can', 'will', 'just', 'don', \"don't\", 'should', \"should've\", 'now', 'd', 'll', 'm', 'o', 're', 've', 'y', 'ain', 'aren', \"aren't\", 'couldn', \"couldn't\", 'didn', \"didn't\", 'doesn', \"doesn't\", 'hadn', \"hadn't\", 'hasn', \"hasn't\", 'haven', \"haven't\", 'isn', \"isn't\", 'ma', 'mightn', \"mightn't\", 'mustn', \"mustn't\", 'needn', \"needn't\", 'shan', \"shan't\", 'shouldn', \"shouldn't\", 'wasn', \"wasn't\", 'weren', \"weren't\", 'won', \"won't\", 'wouldn', \"wouldn't\"]\n"
     ]
    },
    {
     "name": "stderr",
     "output_type": "stream",
     "text": [
      "[nltk_data] Downloading package stopwords to\n",
      "[nltk_data]     /Users/aayushmalaviya/nltk_data...\n",
      "[nltk_data]   Package stopwords is already up-to-date!\n"
     ]
    }
   ],
   "source": [
    "import nltk\n",
    "nltk.download(\"stopwords\")\n",
    "print(stopwords.words(\"english\"))"
   ]
  },
  {
   "cell_type": "code",
   "execution_count": 4,
   "id": "f0d150fc-f806-476d-8638-6d683a0e6249",
   "metadata": {},
   "outputs": [
    {
     "data": {
      "text/plain": [
       "(5572, 2)"
      ]
     },
     "execution_count": 4,
     "metadata": {},
     "output_type": "execute_result"
    }
   ],
   "source": [
    "df = pd.read_csv(\"mail_data.csv\")\n",
    "df.head()\n",
    "df.shape"
   ]
  },
  {
   "cell_type": "code",
   "execution_count": 20,
   "id": "9557219a-02d2-41ca-830b-a066d7390892",
   "metadata": {},
   "outputs": [
    {
     "data": {
      "text/plain": [
       "Category\n",
       "0    4825\n",
       "1     747\n",
       "Name: count, dtype: int64"
      ]
     },
     "execution_count": 20,
     "metadata": {},
     "output_type": "execute_result"
    }
   ],
   "source": [
    "df[\"Category\"] = df[\"Category\"].map({\"spam\":1 , \"ham\":0})\n",
    "df.head()\n",
    "df.isnull().sum()\n"
   ]
  },
  {
   "cell_type": "markdown",
   "id": "9b7f7411-4936-4a0f-ad5f-fae707c59812",
   "metadata": {},
   "source": [
    "## 1 -> Spam\n",
    "## 0 -> Not Spam "
   ]
  },
  {
   "cell_type": "code",
   "execution_count": 21,
   "id": "d87819b1-bb4e-495e-90b6-3c3c77db1586",
   "metadata": {},
   "outputs": [
    {
     "data": {
      "text/plain": [
       "Category\n",
       "0    4825\n",
       "1     747\n",
       "Name: count, dtype: int64"
      ]
     },
     "execution_count": 21,
     "metadata": {},
     "output_type": "execute_result"
    }
   ],
   "source": [
    "df[\"Category\"].value_counts()"
   ]
  },
  {
   "cell_type": "markdown",
   "id": "b065ab7c-d4e1-49b7-9aab-b8e67440fe40",
   "metadata": {},
   "source": []
  },
  {
   "cell_type": "markdown",
   "id": "e94f2c8d-51a6-450a-b594-969498faff29",
   "metadata": {},
   "source": [
    "## Applying processing and stemming to Message "
   ]
  },
  {
   "cell_type": "code",
   "execution_count": 26,
   "id": "85ea0601-4a89-4390-8dc5-5cec1aab0a63",
   "metadata": {},
   "outputs": [],
   "source": [
    "port_stem = PorterStemmer()"
   ]
  },
  {
   "cell_type": "code",
   "execution_count": 27,
   "id": "c2faaeaf-df07-492e-8e66-9e35e6790145",
   "metadata": {},
   "outputs": [],
   "source": [
    "def stemming(message):\n",
    "    message_new = re.sub('[^a-zA-Z]',' ',message) ## getting only those words which have letters in it\n",
    "    message_new = message_new.lower() ## making all the content in small case\n",
    "    message_new = message_new.split() ## converting it to a list\n",
    "    message_new = [port_stem.stem(word) for word in message_new if not word in stopwords.words(\"english\")]\n",
    "    message_new = \" \".join(message_new)\n",
    "    return message_new"
   ]
  },
  {
   "cell_type": "code",
   "execution_count": 28,
   "id": "8995bab6-a120-49d0-9b5f-e12de4af46fc",
   "metadata": {},
   "outputs": [],
   "source": [
    "df[\"Message\"] = df[\"Message\"].apply(stemming)"
   ]
  },
  {
   "cell_type": "code",
   "execution_count": 30,
   "id": "781a906b-60f3-466e-9368-dff8836f1e4c",
   "metadata": {},
   "outputs": [
    {
     "data": {
      "text/html": [
       "<div>\n",
       "<style scoped>\n",
       "    .dataframe tbody tr th:only-of-type {\n",
       "        vertical-align: middle;\n",
       "    }\n",
       "\n",
       "    .dataframe tbody tr th {\n",
       "        vertical-align: top;\n",
       "    }\n",
       "\n",
       "    .dataframe thead th {\n",
       "        text-align: right;\n",
       "    }\n",
       "</style>\n",
       "<table border=\"1\" class=\"dataframe\">\n",
       "  <thead>\n",
       "    <tr style=\"text-align: right;\">\n",
       "      <th></th>\n",
       "      <th>Category</th>\n",
       "      <th>Message</th>\n",
       "    </tr>\n",
       "  </thead>\n",
       "  <tbody>\n",
       "    <tr>\n",
       "      <th>0</th>\n",
       "      <td>0</td>\n",
       "      <td>go jurong point crazi avail bugi n great world...</td>\n",
       "    </tr>\n",
       "    <tr>\n",
       "      <th>1</th>\n",
       "      <td>0</td>\n",
       "      <td>ok lar joke wif u oni</td>\n",
       "    </tr>\n",
       "    <tr>\n",
       "      <th>2</th>\n",
       "      <td>1</td>\n",
       "      <td>free entri wkli comp win fa cup final tkt st m...</td>\n",
       "    </tr>\n",
       "    <tr>\n",
       "      <th>3</th>\n",
       "      <td>0</td>\n",
       "      <td>u dun say earli hor u c alreadi say</td>\n",
       "    </tr>\n",
       "    <tr>\n",
       "      <th>4</th>\n",
       "      <td>0</td>\n",
       "      <td>nah think goe usf live around though</td>\n",
       "    </tr>\n",
       "  </tbody>\n",
       "</table>\n",
       "</div>"
      ],
      "text/plain": [
       "   Category                                            Message\n",
       "0         0  go jurong point crazi avail bugi n great world...\n",
       "1         0                              ok lar joke wif u oni\n",
       "2         1  free entri wkli comp win fa cup final tkt st m...\n",
       "3         0                u dun say earli hor u c alreadi say\n",
       "4         0               nah think goe usf live around though"
      ]
     },
     "execution_count": 30,
     "metadata": {},
     "output_type": "execute_result"
    }
   ],
   "source": [
    "X= df[\"Message\"]\n",
    "Y= df[\"Category\"]\n",
    "df.head()"
   ]
  },
  {
   "cell_type": "markdown",
   "id": "8ebbd108-1d3b-47b9-bf34-fc9db38e1fd9",
   "metadata": {},
   "source": [
    "## Performing feature extraxtion to Convert Message column to numerical values or certain features "
   ]
  },
  {
   "cell_type": "code",
   "execution_count": 45,
   "id": "e11e1ebf-55d0-406b-b7bb-68bb4a9dc813",
   "metadata": {},
   "outputs": [],
   "source": [
    "vector1 = TfidfVectorizer()"
   ]
  },
  {
   "cell_type": "code",
   "execution_count": 46,
   "id": "7c187d02-46c7-43ae-849e-c94a956a64ae",
   "metadata": {},
   "outputs": [],
   "source": [
    "vector1.fit(df[\"Message\"])\n",
    "X = vector1.transform(df[\"Message\"])\n"
   ]
  },
  {
   "cell_type": "markdown",
   "id": "ffed2851-163f-44be-b420-2bf3f7782141",
   "metadata": {},
   "source": [
    "# Training the model "
   ]
  },
  {
   "cell_type": "code",
   "execution_count": 47,
   "id": "ea5b7d2e-aac3-4bb0-adbd-6ea71acba7eb",
   "metadata": {},
   "outputs": [],
   "source": [
    "X_train,X_test,Y_train,Y_test = train_test_split(X,Y,test_size = 0.2,stratify = Y,random_state =2)\n"
   ]
  },
  {
   "cell_type": "code",
   "execution_count": 49,
   "id": "087b8340-d8ee-4435-be35-d65d22560a8f",
   "metadata": {},
   "outputs": [],
   "source": [
    "model=LogisticRegression()\n",
    "model.fit(X_train,Y_train)\n",
    "pred = model.predict(X_train)"
   ]
  },
  {
   "cell_type": "markdown",
   "id": "f3a0506c-8642-4bb3-8b4b-4eddbb19ed9d",
   "metadata": {},
   "source": [
    "## Prediction Model accuracy on the training set"
   ]
  },
  {
   "cell_type": "code",
   "execution_count": 51,
   "id": "edea96e6-86a2-4c38-b6b5-f90de46eac4d",
   "metadata": {},
   "outputs": [
    {
     "name": "stdout",
     "output_type": "stream",
     "text": [
      "0.9715054969710568\n"
     ]
    }
   ],
   "source": [
    "accuracy1 = accuracy_score(pred,Y_train)\n",
    "print(accuracy1)"
   ]
  },
  {
   "cell_type": "code",
   "execution_count": 54,
   "id": "b4a8dc19-5ef3-412e-bc49-45f7a49aef97",
   "metadata": {},
   "outputs": [
    {
     "name": "stdout",
     "output_type": "stream",
     "text": [
      "0.9650224215246637\n"
     ]
    }
   ],
   "source": [
    "accuracy2 = accuracy_score(model.predict(X_test),Y_test)\n",
    "print(accuracy2)"
   ]
  },
  {
   "cell_type": "code",
   "execution_count": null,
   "id": "05dd4dfb-5e1b-4417-bad9-f3dae4d1b3c8",
   "metadata": {},
   "outputs": [],
   "source": []
  }
 ],
 "metadata": {
  "kernelspec": {
   "display_name": "Python 3 (ipykernel)",
   "language": "python",
   "name": "python3"
  },
  "language_info": {
   "codemirror_mode": {
    "name": "ipython",
    "version": 3
   },
   "file_extension": ".py",
   "mimetype": "text/x-python",
   "name": "python",
   "nbconvert_exporter": "python",
   "pygments_lexer": "ipython3",
   "version": "3.11.5"
  }
 },
 "nbformat": 4,
 "nbformat_minor": 5
}
